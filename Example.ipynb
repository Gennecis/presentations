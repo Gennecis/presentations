{
 "cells": [
  {
   "cell_type": "markdown",
   "id": "53a60f21",
   "metadata": {},
   "source": [
    "## This is a header\n",
    "This is text"
   ]
  },
  {
   "cell_type": "markdown",
   "id": "a95afcd9",
   "metadata": {
    "slideshow": {
     "slide_type": "slide"
    }
   },
   "source": [
    "## This is slide two\n",
    "\n",
    "- Here is a thought\n",
    "- And here is another thought"
   ]
  },
  {
   "cell_type": "code",
   "execution_count": null,
   "id": "e799a953",
   "metadata": {},
   "outputs": [],
   "source": []
  }
 ],
 "metadata": {
  "celltoolbar": "Slideshow",
  "kernelspec": {
   "display_name": "presentations",
   "language": "python",
   "name": "presentations"
  }
 },
 "nbformat": 4,
 "nbformat_minor": 5
}
